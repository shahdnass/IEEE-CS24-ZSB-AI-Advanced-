{
 "cells": [
  {
   "cell_type": "markdown",
   "metadata": {},
   "source": [
    "**By:** *Ahmed Sharaf*"
   ]
  },
  {
   "cell_type": "markdown",
   "metadata": {},
   "source": [
    "In this notebook you will practice how to:\n",
    "1. Calculate the determinant of a 2x2 matrix with and without using numpy.linalg\n",
    "2. Calculate the determinant of a 3x3 matrix with and without using numpy.linalg\n",
    "3. Calculate the inverse of a 2x2 matrix using numpy.linalg\n",
    "4. Calculate the inverse of a 3x3 matrix using numpy.linalg\n",
    "5. Finding the rank of a matrix using numpy"
   ]
  },
  {
   "cell_type": "markdown",
   "metadata": {},
   "source": [
    "### Notice\n",
    "\n",
    "**Please Note:**  \n",
    "When writing code, make sure to place it in the designated area marked with `# code here`.  \n",
    "If there is a `pass` keyword in the code, please remove it and replace it with the required code."
   ]
  },
  {
   "cell_type": "markdown",
   "metadata": {},
   "source": [
    "# Calculating the determinant using numpy.linalg"
   ]
  },
  {
   "cell_type": "code",
   "execution_count": 3,
   "metadata": {},
   "outputs": [],
   "source": [
    "import numpy as np"
   ]
  },
  {
   "cell_type": "code",
   "execution_count": 4,
   "metadata": {},
   "outputs": [
    {
     "name": "stdout",
     "output_type": "stream",
     "text": [
      "[[1 2]\n",
      " [3 4]]\n"
     ]
    }
   ],
   "source": [
    "a2 = np.array([[1,2],[3,4]])\n",
    "print(a2)"
   ]
  },
  {
   "cell_type": "code",
   "execution_count": 5,
   "metadata": {},
   "outputs": [
    {
     "name": "stdout",
     "output_type": "stream",
     "text": [
      "[[ 1  1  2]\n",
      " [ 2  3  1]\n",
      " [ 3  4 -5]]\n"
     ]
    }
   ],
   "source": [
    "a3 = np.array([[1,1,2],[2,3,1],[3,4,-5]])\n",
    "print(a3)"
   ]
  },
  {
   "cell_type": "code",
   "execution_count": 6,
   "metadata": {},
   "outputs": [
    {
     "name": "stdout",
     "output_type": "stream",
     "text": [
      "-2.0000000000000004\n",
      "-7.999999999999998\n"
     ]
    }
   ],
   "source": [
    "\n",
    "## Determinate of a2, a3\n",
    "deter_a2 = np.linalg.det(a2)\n",
    "deter_a3 = np.linalg.det(a3)\n",
    "\n",
    "# Print the result\n",
    "print(deter_a2)\n",
    "print(deter_a3)"
   ]
  },
  {
   "cell_type": "markdown",
   "metadata": {},
   "source": [
    "# Calculating the determinant of a 2x2 matrixwithout using numpy"
   ]
  },
  {
   "cell_type": "code",
   "execution_count": 8,
   "metadata": {},
   "outputs": [
    {
     "name": "stdout",
     "output_type": "stream",
     "text": [
      "-2\n"
     ]
    }
   ],
   "source": [
    "def Det2(Mat):\n",
    "    a = Mat [0][0]\n",
    "    b = Mat[0][1]\n",
    "    c = Mat[1][0]\n",
    "    d = Mat[1][1]\n",
    "    result = (a*d)-(b*c)\n",
    "    return result\n",
    "\n",
    "print(Det2(a2))"
   ]
  },
  {
   "cell_type": "markdown",
   "metadata": {},
   "source": [
    "# Calculating the determinant of a 3x3 matrixwithout using numpy\n",
    "\n",
    "One idea\n",
    "1. write a function to calculate the minor matrices. (hint, use slices)\n",
    "2. write a function to calculate the cofactors (this should call the first function, and the determinant function)\n",
    "3. the determinant function calls the function in step two and adds the results together.\n",
    "\n",
    "Another idea \n",
    "use recursion ==> code credit https://stackoverflow.com/questions/3819500/code-to-solve-determinant-using-python-without-using-scipy-linalg-det"
   ]
  },
  {
   "cell_type": "code",
   "execution_count": 35,
   "metadata": {},
   "outputs": [
    {
     "name": "stdout",
     "output_type": "stream",
     "text": [
      "[[ 1  2  3  4]\n",
      " [ 5  6  7  8]\n",
      " [ 9 10 11 12]]\n",
      "[[ 1  2  3  4]\n",
      " [ 9 10 11 12]]\n",
      "[[ 1  2  3]\n",
      " [ 5  6  7]\n",
      " [ 9 10 11]]\n",
      "[[ 1  2  3  4]\n",
      " [ 5  6  7  8]\n",
      " [ 9 10 11 12]]\n"
     ]
    }
   ],
   "source": [
    "# delete function removes a sub-array from the input array\n",
    "# first argument is the original array\n",
    "# second argument is the index to the sub-array to be removed\n",
    "# third argument is the axis among which the deletion happens (0: x axis \"row\" and 1: y axis \"column\")\n",
    "arr = np.array([[1,2,3,4], [5,6,7,8], [9,10,11,12]])\n",
    "print(arr)\n",
    "\n",
    "arr2 = np.delete(arr, 1, 0)\n",
    "print(arr2)\n",
    "\n",
    "arr3 = np.delete(arr, 3, 1)\n",
    "print(arr3)\n",
    "print(arr)"
   ]
  },
  {
   "cell_type": "code",
   "execution_count": 36,
   "metadata": {},
   "outputs": [
    {
     "name": "stdout",
     "output_type": "stream",
     "text": [
      "[[ 1  2  3  4]\n",
      " [ 5  6  7  8]\n",
      " [ 9 10 11 12]]\n"
     ]
    },
    {
     "data": {
      "text/plain": [
       "-4"
      ]
     },
     "execution_count": 36,
     "metadata": {},
     "output_type": "execute_result"
    }
   ],
   "source": [
    "def minor(arr,i,j):\n",
    "     return [i[:j] + i[j+1:] for i in (arr[:i] + arr[i+1:])]\n",
    "\n",
    "def det(arr):\n",
    "    return arr[0][0] * arr[1][1] - arr[0][1] * arr[1][0]\n",
    "    \n",
    "    t = 0\n",
    "    for col in range(len(matrix[0])):\n",
    "        cofactor = (-1) ** col  # Alternate signs\n",
    "        minor_matrix = minor(matrix, 0, col)\n",
    "        t += cofactor * matrix[0][col] * det(minor_matrix)\n",
    "    return t\n",
    "\n",
    "print(arr)\n",
    "det(arr)\n"
   ]
  },
  {
   "cell_type": "markdown",
   "metadata": {},
   "source": [
    "# Calculating the inverse using numpy.linalg"
   ]
  },
  {
   "cell_type": "code",
   "execution_count": 10,
   "metadata": {},
   "outputs": [
    {
     "name": "stdout",
     "output_type": "stream",
     "text": [
      "[[1 2]\n",
      " [3 4]]\n",
      "[[-2.   1. ]\n",
      " [ 1.5 -0.5]]\n"
     ]
    }
   ],
   "source": [
    "# The inverse of 2 x 2 matrix\n",
    "\n",
    "a2 = np.array([[1,2],[3,4]])\n",
    "\n",
    "print(a2)\n",
    "\n",
    "\n",
    "inverse_matrix1 = np.linalg.inv(a2)\n",
    "print(inverse_matrix)"
   ]
  },
  {
   "cell_type": "code",
   "execution_count": 18,
   "metadata": {},
   "outputs": [
    {
     "name": "stdout",
     "output_type": "stream",
     "text": [
      "[[1 2]\n",
      " [2 4]]\n",
      "singular matrix\n"
     ]
    }
   ],
   "source": [
    "# The inverse of a singular matrix\n",
    "\n",
    "a3 = np.array([[1,2],[2,4]])\n",
    "\n",
    "print(a3)\n",
    "try:\n",
    " inverse_matrix2 = np.linalg.inv(a3) ## هنا المفروض ان المحدد بصفر فملهاش inverse\n",
    " print(inverse_matrix2)\n",
    "except np.linalg.LinAlgError :\n",
    " print(\"singular matrix\")"
   ]
  },
  {
   "cell_type": "code",
   "execution_count": 21,
   "metadata": {},
   "outputs": [
    {
     "name": "stdout",
     "output_type": "stream",
     "text": [
      "[[ 0.17647059 -0.00326797 -0.02287582]\n",
      " [ 0.05882353 -0.13071895  0.08496732]\n",
      " [-0.11764706  0.1503268   0.05228758]]\n"
     ]
    }
   ],
   "source": [
    "# The inverse of 3 x 3 matrix\n",
    "\n",
    "A = np.array([[6, 1, 1],\n",
    "              [4, -2, 5],\n",
    "              [2, 8, 7]])\n",
    "  \n",
    "# Calculating the inverse of the matrix\n",
    "inverse_matrix3 = np.linalg.inv(A)\n",
    "print(inverse_matrix3)"
   ]
  },
  {
   "cell_type": "code",
   "execution_count": 22,
   "metadata": {
    "scrolled": true
   },
   "outputs": [
    {
     "name": "stdout",
     "output_type": "stream",
     "text": [
      "[[[-2.    1.  ]\n",
      "  [ 1.5  -0.5 ]]\n",
      "\n",
      " [[-1.25  0.75]\n",
      "  [ 0.75 -0.25]]]\n"
     ]
    }
   ],
   "source": [
    "# Inverses of several matrices can\n",
    "# be computed at once\n",
    "\n",
    "A = np.array([[[1., 2.], \n",
    "               [3., 4.]],\n",
    "              [[1, 3], \n",
    "               [3, 5]]])\n",
    "  \n",
    "# Calculating the inverse of the matrix\n",
    "inverse_matrix4 = np.linalg.inv(A)\n",
    "print(inverse_matrix4)"
   ]
  },
  {
   "cell_type": "markdown",
   "metadata": {},
   "source": [
    "# Calculating the inverse of a 2x2 matrixwithout using numpy"
   ]
  },
  {
   "cell_type": "markdown",
   "metadata": {},
   "source": [
    "1. Code a function to calculate the determinant of 2x2 matrix\n",
    "2. Code a function that interchange the diagonal elements of a 2x2 matrix and inverse the sign of the off diagonal elements\n",
    "3. Code a function to compute the inverse of 2x2 matrix based on the two previous functions if it exists"
   ]
  },
  {
   "cell_type": "code",
   "execution_count": 28,
   "metadata": {},
   "outputs": [
    {
     "name": "stdout",
     "output_type": "stream",
     "text": [
      "[[-2.0, 1.0], [1.5, -0.5]]\n"
     ]
    }
   ],
   "source": [
    "#step -1- we already coded the det function that works for 2x2 and nxn size matrix\n",
    "\n",
    "def interchangeMatrix(A):\n",
    "    return [[A[1][1], -A[0][1]],\n",
    "            [-A[1][0], A[0][0]]]\n",
    "\n",
    "# Step 3: Inverse function for 2x2 matrix\n",
    "def inverse2x2(A):\n",
    "    det = Det2(A)\n",
    "    new = interchangeMatrix(A)\n",
    "    return [[new[0][0] / det, new[0][1] / det],\n",
    "            [new[1][0] / det, new[1][1] / det]]\n",
    "\n",
    "\n",
    "a2 = np.array([[1,2],[3,4]])\n",
    "print(inverse2x2(a2))"
   ]
  },
  {
   "cell_type": "markdown",
   "metadata": {},
   "source": [
    "# Calculating the inverse of a 3x3 matrixwithout using numpy"
   ]
  },
  {
   "cell_type": "markdown",
   "metadata": {},
   "source": [
    "# Use the adjoint matrix method\n",
    "\n",
    "Coding a Python code to inverse a 3x3 matrix (no numpy.linalg.inv allowed):\n",
    "1. Coding a function that checks if a 3x3 matrix is invertible\n",
    "2. Coding a function that generates the transpose of a 3x3 matrix\n",
    "3. Coding a function that generates the matrix of minors of a 3x3 matrix\n",
    "4. Coding a function that generates the matrix of cofactors of a 3x3 matrix\n",
    "5. Coding a function that generates the inverse of a 3x3 matrix if it exists\n"
   ]
  },
  {
   "cell_type": "code",
   "execution_count": null,
   "metadata": {},
   "outputs": [],
   "source": [
    "#step -1- a matrix is invertible only if its determinant != 0\n",
    "def invertible(A):\n",
    "    ## Code Here\n",
    "    pass\n",
    "\n",
    "#step -2- rows and columns could be interchanged without the need of built-in methods\n",
    "def transposeM(A):\n",
    "    ## Code Here\n",
    "    pass\n",
    "\n",
    "#step -3- we coded that previously minor(arr,i,j)\n",
    "\n",
    "#step -4- Calculating the matrix of cofactors (minors determinants multiplied by signs)\n",
    "def cofactors(A):\n",
    "    ## Code Here\n",
    "    pass\n",
    "\n",
    "\n",
    "#step -5- Inverse is the transpose of the cofactor matrix divided by the determinant of the original/input matrix\n",
    "def inverse3x3(A):\n",
    "    ## Code Here\n",
    "    pass\n",
    "\n",
    "\n",
    "B = np.array([[6, 1, 1],\n",
    "              [4, -2, 5],\n",
    "              [2, 8, 7]])\n",
    "\n",
    "print(inverse3x3(B))\n",
    "\n",
    "#[ 0.17647059 -0.00326797 -0.02287582]\n",
    "# [ 0.05882353 -0.13071895  0.08496732]\n",
    "# [-0.11764706  0.1503268   0.05228758]]\n",
    "#check\n",
    "print(np.linalg.inv(B))"
   ]
  },
  {
   "cell_type": "markdown",
   "metadata": {},
   "source": [
    "# Finding the rank of a matrix using numpy"
   ]
  },
  {
   "cell_type": "code",
   "execution_count": 29,
   "metadata": {},
   "outputs": [
    {
     "name": "stdout",
     "output_type": "stream",
     "text": [
      "1\n"
     ]
    }
   ],
   "source": [
    "a3 = np.array([[1,2],[2,4]])\n",
    "rank = np.linalg.matrix_rank(a3)\n",
    "print(rank)\n"
   ]
  },
  {
   "cell_type": "code",
   "execution_count": null,
   "metadata": {},
   "outputs": [],
   "source": []
  }
 ],
 "metadata": {
  "kernelspec": {
   "display_name": "Python 3 (ipykernel)",
   "language": "python",
   "name": "python3"
  },
  "language_info": {
   "codemirror_mode": {
    "name": "ipython",
    "version": 3
   },
   "file_extension": ".py",
   "mimetype": "text/x-python",
   "name": "python",
   "nbconvert_exporter": "python",
   "pygments_lexer": "ipython3",
   "version": "3.11.7"
  }
 },
 "nbformat": 4,
 "nbformat_minor": 4
}
